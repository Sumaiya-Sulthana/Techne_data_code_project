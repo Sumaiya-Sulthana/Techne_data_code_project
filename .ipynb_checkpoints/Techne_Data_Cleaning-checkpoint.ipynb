{
 "cells": [
  {
   "cell_type": "markdown",
   "metadata": {},
   "source": [
    "# Data Cleaning\n"
   ]
  },
  {
   "cell_type": "code",
   "execution_count": null,
   "metadata": {},
   "outputs": [],
   "source": [
    "import numpy as np\n",
    "import pandas as pd \n",
    "import matplotlib.pyplot as plt\n",
    "import seaborn as sns\n",
    "\n",
    "# reading data files\n",
    "# using encoding = \"ISO-8859-1\" to avoid pandas encoding error\n",
    "rounds = pd.read_csv(\"rounds2.csv\", encoding = \"ISO-8859-1\")\n",
    "companies = pd.read_csv(\"companies.txt\", sep=\"\\t\", encoding = \"ISO-8859-1\")\n"
   ]
  },
  {
   "cell_type": "code",
   "execution_count": null,
   "metadata": {},
   "outputs": [],
   "source": [
    "# Look at rounds head\n",
    "print(rounds.head())"
   ]
  },
  {
   "cell_type": "code",
   "execution_count": null,
   "metadata": {},
   "outputs": [],
   "source": [
    "# inspect the structure etc.\n",
    "print(rounds.info(), \"\\n\")\n",
    "print(rounds.shape)\n"
   ]
  },
  {
   "cell_type": "code",
   "execution_count": null,
   "metadata": {},
   "outputs": [],
   "source": [
    "# look at companies head\n",
    "companies.head()"
   ]
  },
  {
   "cell_type": "code",
   "execution_count": null,
   "metadata": {},
   "outputs": [],
   "source": [
    "# companies structure\n",
    "companies.info()"
   ]
  },
  {
   "cell_type": "code",
   "execution_count": null,
   "metadata": {},
   "outputs": [],
   "source": [
    "# identify the unique number of permalinks in companies\n",
    "len(companies.permalink.unique())"
   ]
  },
  {
   "cell_type": "code",
   "execution_count": null,
   "metadata": {},
   "outputs": [],
   "source": [
    "# converting all permalinks to lowercase\n",
    "companies['permalink'] = companies['permalink'].str.lower()\n",
    "companies.head()\n"
   ]
  },
  {
   "cell_type": "code",
   "execution_count": null,
   "metadata": {},
   "outputs": [],
   "source": [
    "# look at unique values again\n",
    "len(companies.permalink.unique())"
   ]
  },
  {
   "cell_type": "code",
   "execution_count": null,
   "metadata": {},
   "outputs": [],
   "source": [
    "# look at unique company names in rounds df\n",
    "# note that the column name in rounds file is different (company_permalink)\n",
    "len(rounds.company_permalink.unique())\n"
   ]
  },
  {
   "cell_type": "code",
   "execution_count": null,
   "metadata": {},
   "outputs": [],
   "source": [
    "# converting column to lowercase\n",
    "rounds['company_permalink'] = rounds['company_permalink'].str.lower()\n",
    "rounds.head()"
   ]
  },
  {
   "cell_type": "code",
   "execution_count": null,
   "metadata": {},
   "outputs": [],
   "source": [
    "# Look at unique values again\n",
    "len(rounds.company_permalink.unique())"
   ]
  },
  {
   "cell_type": "code",
   "execution_count": null,
   "metadata": {},
   "outputs": [],
   "source": [
    "# companies present in rounds file but not in (~) companies file\n",
    "rounds.loc[~rounds['company_permalink'].isin(companies['permalink']), :]"
   ]
  },
  {
   "cell_type": "code",
   "execution_count": null,
   "metadata": {},
   "outputs": [],
   "source": [
    "# looking at the indices with weird characters\n",
    "rounds_original = pd.read_csv(\"rounds2.csv\", encoding = \"ISO-8859-1\")\n",
    "rounds_original.iloc[[29597, 31863, 45176, 58473], :]"
   ]
  },
  {
   "cell_type": "code",
   "execution_count": null,
   "metadata": {},
   "outputs": [],
   "source": [
    "# import chardet\n",
    "\n",
    "# rawdata = open('rounds2.csv', 'rb').read()\n",
    "# result = chardet.detect(rawdata)\n",
    "# charenc = result['encoding']\n",
    "# print(charenc)"
   ]
  },
  {
   "cell_type": "code",
   "execution_count": null,
   "metadata": {},
   "outputs": [],
   "source": [
    "# print(result)"
   ]
  },
  {
   "cell_type": "code",
   "execution_count": null,
   "metadata": {},
   "outputs": [],
   "source": [
    "# trying different encodings\n",
    "# encoding=\"cp1254\" throws an error\n",
    "# rounds_original = pd.read_csv(\"rounds2.csv\", encoding=\"cp1254\")\n",
    "# rounds_original.iloc[[29597, 31863, 45176], :]"
   ]
  },
  {
   "cell_type": "code",
   "execution_count": null,
   "metadata": {},
   "outputs": [],
   "source": [
    "rounds['company_permalink'] = rounds.company_permalink.str.encode('utf-8').str.decode('ascii', 'ignore')\n",
    "rounds.loc[~rounds['company_permalink'].isin(companies['permalink']), :]"
   ]
  },
  {
   "cell_type": "code",
   "execution_count": null,
   "metadata": {},
   "outputs": [],
   "source": [
    "# Look at unique values again\n",
    "len(rounds.company_permalink.unique())"
   ]
  },
  {
   "cell_type": "code",
   "execution_count": null,
   "metadata": {},
   "outputs": [],
   "source": [
    "# companies present in companies df but not in rounds df\n",
    "companies.loc[~companies['permalink'].isin(rounds['company_permalink']), :]\n"
   ]
  },
  {
   "cell_type": "code",
   "execution_count": null,
   "metadata": {},
   "outputs": [],
   "source": [
    "# remove encoding from companies df\n",
    "companies['permalink'] = companies.permalink.str.encode('utf-8').str.decode('ascii', 'ignore')\n"
   ]
  },
  {
   "cell_type": "code",
   "execution_count": null,
   "metadata": {},
   "outputs": [],
   "source": [
    "# companies present in companies df but not in rounds df\n",
    "companies.loc[~companies['permalink'].isin(rounds['company_permalink']), :]\n"
   ]
  },
  {
   "cell_type": "code",
   "execution_count": null,
   "metadata": {},
   "outputs": [],
   "source": [
    "# write rounds file\n",
    "rounds.to_csv(\"rounds_clean.csv\", sep=',', index=False)\n",
    "\n",
    "# write companies file\n",
    "companies.to_csv(\"companies_clean.csv\", sep='\\t', index=False)"
   ]
  }
 ],
 "metadata": {
  "kernelspec": {
   "display_name": "Python 3",
   "language": "python",
   "name": "python3"
  },
  "language_info": {
   "codemirror_mode": {
    "name": "ipython",
    "version": 3
   },
   "file_extension": ".py",
   "mimetype": "text/x-python",
   "name": "python",
   "nbconvert_exporter": "python",
   "pygments_lexer": "ipython3",
   "version": "3.7.1"
  }
 },
 "nbformat": 4,
 "nbformat_minor": 2
}
